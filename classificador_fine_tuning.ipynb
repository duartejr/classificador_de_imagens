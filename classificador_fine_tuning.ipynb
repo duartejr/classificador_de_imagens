{
  "nbformat": 4,
  "nbformat_minor": 0,
  "metadata": {
    "colab": {
      "name": "projeto_03_modulo_extra02.ipynb",
      "provenance": [],
      "collapsed_sections": [],
      "include_colab_link": true
    },
    "kernelspec": {
      "name": "python3",
      "display_name": "Python 3"
    },
    "language_info": {
      "name": "python"
    },
    "accelerator": "GPU",
    "gpuClass": "standard"
  },
  "cells": [
    {
      "cell_type": "markdown",
      "metadata": {
        "id": "view-in-github",
        "colab_type": "text"
      },
      "source": [
        "<a href=\"https://colab.research.google.com/github/duartejr/classificador_de_imagens/blob/main/classificador_fine_tuning.ipynb\" target=\"_parent\"><img src=\"https://colab.research.google.com/assets/colab-badge.svg\" alt=\"Open In Colab\"/></a>"
      ]
    },
    {
      "cell_type": "markdown",
      "source": [
        "# Objetivo\n",
        "\n",
        "Considerando o dataset Grapevine Leaves, escolha uma rede pré-treinada para fazer transferência de aprendizado por meio de fine-tuning. Determine quais camadas serão acrescentadas, o tamanho do batch, a quantidade de épocas e a forma de treinamento (fit ou train_on_batch). Compare a predição com a extração de características."
      ],
      "metadata": {
        "id": "nzxjsDZpl7Xm"
      }
    },
    {
      "cell_type": "markdown",
      "source": [
        "# Preparação do ambiente"
      ],
      "metadata": {
        "id": "96337JN-4B3J"
      }
    },
    {
      "cell_type": "markdown",
      "source": [
        "## Importação das bibliotecas para leitura das imagens de montagem dos datasets"
      ],
      "metadata": {
        "id": "R8a6J0ij4ED0"
      }
    },
    {
      "cell_type": "code",
      "execution_count": null,
      "metadata": {
        "id": "DpvJdzVblwdl"
      },
      "outputs": [],
      "source": [
        "import os\n",
        "import numpy as np\n",
        "from glob import glob\n",
        "from PIL import Image\n",
        "from sklearn.model_selection import train_test_split"
      ]
    },
    {
      "cell_type": "markdown",
      "source": [
        "## Diretório das imagens"
      ],
      "metadata": {
        "id": "NEGFZxsL4PCK"
      }
    },
    {
      "cell_type": "code",
      "source": [
        "# Diretório onde estão armazenadas as imagens\n",
        "images_dir = '/content/drive/MyDrive/Grapevine_Leaves_Image_Dataset'\n",
        "\n",
        "# Lista de sub diretórios \n",
        "sub_dirs = os.listdir(images_dir)"
      ],
      "metadata": {
        "id": "LEy92BSPmZoI"
      },
      "execution_count": null,
      "outputs": []
    },
    {
      "cell_type": "markdown",
      "source": [
        "## Rotina de carregamento das imagens\n"
      ],
      "metadata": {
        "id": "cNcqBTSJmnUc"
      }
    },
    {
      "cell_type": "code",
      "source": [
        "import os\n",
        "\n",
        "def load_images(img_dir, folders):\n",
        "    '''\n",
        "    Rotina para carregamento das imagens:\n",
        "    Args:\n",
        "    img_dir (string) : Diretório onde as imagens estão armazenadas.\n",
        "    folder (list) : Lista com o nome dos subdiretórios onde as imagens estão armazenadas. \n",
        "\n",
        "    Returns:\n",
        "    X (np.array) : Array com as imagens carregadas\n",
        "    y (np.array) : Array com a categoria de cada uma das imagens\n",
        "    '''\n",
        "    X = []\n",
        "    y = []\n",
        "\n",
        "    for folder in folders:\n",
        "        images = glob(f'{img_dir}/{folder}/*.png')\n",
        "        for image_file in images:\n",
        "            image = Image.open(image_file)\n",
        "            X.append(image)\n",
        "            y.append(folder)\n",
        "\n",
        "    return np.array(X), np.array(y)"
      ],
      "metadata": {
        "id": "3s1kNZEemm1m"
      },
      "execution_count": null,
      "outputs": []
    },
    {
      "cell_type": "markdown",
      "source": [
        "## Rotina para ajustar as imagens para a resolução de entrada da rede"
      ],
      "metadata": {
        "id": "pAO_hsBR4nSb"
      }
    },
    {
      "cell_type": "code",
      "source": [
        "def convert_images(images_list):\n",
        "    '''\n",
        "    Método para ajustar as imagens para as dimensões de entrada da VGG-19\n",
        "    Args:\n",
        "    images_list (np.Array) : Array de imagens a serem convertidas\n",
        "\n",
        "    Return:\n",
        "    images_converted (np.Array) : Array com as imagens ajustadas à configuração de entrada da VGG-19.\n",
        "    '''\n",
        "    images_converted = []\n",
        "\n",
        "    for image in images_list:\n",
        "        image = image.resize((224,224))     # Redimensiona imagem\n",
        "        image = image.convert('RGB')        # Converte de RGBA para RGB\n",
        "        image = np.asarray(image)           # Imagem para o formato np.Array\n",
        "        images_converted.append(image)\n",
        "    \n",
        "    return np.array(images_converted)\n"
      ],
      "metadata": {
        "id": "QWfWEsWPmyLC"
      },
      "execution_count": null,
      "outputs": []
    },
    {
      "cell_type": "markdown",
      "source": [
        "## Rotina para separar os grupos de treino e teste"
      ],
      "metadata": {
        "id": "oaHtx_Ze6QVg"
      }
    },
    {
      "cell_type": "code",
      "source": [
        "def split_sets(X, y):\n",
        "    '''\n",
        "    Método para realizar a separação dos grupos de treino e teste\n",
        "    '''\n",
        "    return train_test_split(X, y, test_size=.3, random_state=101, stratify=y, shuffle=True)"
      ],
      "metadata": {
        "id": "Pxynng9RngL7"
      },
      "execution_count": null,
      "outputs": []
    },
    {
      "cell_type": "markdown",
      "source": [
        "## Leitura das imagens"
      ],
      "metadata": {
        "id": "I6aLE4YFmvju"
      }
    },
    {
      "cell_type": "code",
      "source": [
        "X, y = load_images(images_dir, sub_dirs)"
      ],
      "metadata": {
        "colab": {
          "base_uri": "https://localhost:8080/"
        },
        "id": "QhULWaG1mjpz",
        "outputId": "15292a4a-b030-45eb-bc12-fa975843844e"
      },
      "execution_count": null,
      "outputs": [
        {
          "output_type": "stream",
          "name": "stderr",
          "text": [
            "/usr/local/lib/python3.7/dist-packages/ipykernel_launcher.py:24: FutureWarning: The input object of type 'PngImageFile' is an array-like implementing one of the corresponding protocols (`__array__`, `__array_interface__` or `__array_struct__`); but not a sequence (or 0-D). In the future, this object will be coerced as if it was first converted using `np.array(obj)`. To retain the old behaviour, you have to either modify the type 'PngImageFile', or assign to an empty array created with `np.empty(correct_shape, dtype=object)`.\n",
            "/usr/local/lib/python3.7/dist-packages/ipykernel_launcher.py:24: VisibleDeprecationWarning: Creating an ndarray from ragged nested sequences (which is a list-or-tuple of lists-or-tuples-or ndarrays with different lengths or shapes) is deprecated. If you meant to do this, you must specify 'dtype=object' when creating the ndarray.\n"
          ]
        }
      ]
    },
    {
      "cell_type": "markdown",
      "source": [
        "## Aplicando Encoder na coluna y \n",
        "\n",
        "Ação necessária para que a coluna fique no formato de multilabel."
      ],
      "metadata": {
        "id": "m4VuqEZR5mKc"
      }
    },
    {
      "cell_type": "code",
      "source": [
        "from sklearn.preprocessing import OneHotEncoder\n",
        "import pandas as pd\n",
        "ohe = OneHotEncoder(sparse=False)\n",
        "y_multilabel = ohe.fit_transform(pd.DataFrame(y))\n",
        "y_multilabel.shape"
      ],
      "metadata": {
        "colab": {
          "base_uri": "https://localhost:8080/"
        },
        "id": "NHTK5wIc4_g9",
        "outputId": "2eecd201-807a-4d6c-f178-ae5ff1e31fa6"
      },
      "execution_count": null,
      "outputs": [
        {
          "output_type": "execute_result",
          "data": {
            "text/plain": [
              "(500, 5)"
            ]
          },
          "metadata": {},
          "execution_count": 13
        }
      ]
    },
    {
      "cell_type": "markdown",
      "source": [
        "Após este processo a variável `y_multilabel`fica com 500 linhas e 5 colunas. A quantidade de linhas refere-se ao total de imagens do dataset. A 5 colunas são referentes a cada uma dos 5 espécies de folhas do dataset."
      ],
      "metadata": {
        "id": "kr7TwZBuTag7"
      }
    },
    {
      "cell_type": "markdown",
      "source": [
        "## Realizando ajuste da resolução das imagens"
      ],
      "metadata": {
        "id": "MVGMCxfC56I5"
      }
    },
    {
      "cell_type": "markdown",
      "source": [
        "O ajuste da resolução é feito para que cada imagem fique com a mesma resolução de entrada da Rede."
      ],
      "metadata": {
        "id": "joa79sfAT0I1"
      }
    },
    {
      "cell_type": "code",
      "source": [
        "X_converted = convert_images(X)"
      ],
      "metadata": {
        "id": "ImakhzV4m50C"
      },
      "execution_count": null,
      "outputs": []
    },
    {
      "cell_type": "markdown",
      "source": [
        "## Divisão dos grupos de treino e teste"
      ],
      "metadata": {
        "id": "fPIpfX9j6dbE"
      }
    },
    {
      "cell_type": "code",
      "source": [
        "X_train, X_test, y_train, y_test = split_sets(X_converted, y_multilabel)"
      ],
      "metadata": {
        "id": "8oTWSoT96cpP"
      },
      "execution_count": null,
      "outputs": []
    },
    {
      "cell_type": "markdown",
      "source": [
        "# Exercícios"
      ],
      "metadata": {
        "id": "1NQlU0G16nor"
      }
    },
    {
      "cell_type": "markdown",
      "source": [
        "## Questão 01\n",
        "Escolha uma rede pré-treinada em imagens para fazer transferência de aprendizado por meio de fine-tuning:\n"
      ],
      "metadata": {
        "id": "0DrGFsoj6pcU"
      }
    },
    {
      "cell_type": "markdown",
      "source": [
        "Como neste trabalho é pedido para comparar o uso do fine-tuning com a extração de características do primeiro projeto utilizarei novamente a rede VGG19. Assim, a comparação entre os resultados será mais justa pois, estarei mantendo a mesma rede e mudando apenas a metodologia para classificação."
      ],
      "metadata": {
        "id": "ujUirA2N6ta_"
      }
    },
    {
      "cell_type": "markdown",
      "source": [
        "Importação de todas as bibliotecas e pacotes necessários"
      ],
      "metadata": {
        "id": "NuRgLeu8Myv1"
      }
    },
    {
      "cell_type": "code",
      "source": [
        "import os\n",
        "import numpy as np\n",
        "from PIL import Image\n",
        "\n",
        "from keras.datasets import cifar10\n",
        "from keras.layers import Dense, Flatten\n",
        "from keras.models import Model, Sequential, load_model\n",
        "from tensorflow.keras.applications import vgg19\n",
        "\n",
        "import matplotlib.pyplot as plt"
      ],
      "metadata": {
        "id": "wi2593V2nEd8"
      },
      "execution_count": null,
      "outputs": []
    },
    {
      "cell_type": "markdown",
      "source": [
        "a) Determine quais camadas serão acrescentadas, o tamanho do batch, a quantidade de épocas e a forma de treinamento (fit ou train_on_batch)."
      ],
      "metadata": {
        "id": "YjlMuSeqnQ-z"
      }
    },
    {
      "cell_type": "markdown",
      "source": [
        "Serão acrescentadas duas camadas extras. A primeira é a Flatten e a segunda será uma camada densa. Na camada serão adicionados 5 neurônicos pois, este é o número de classes existentes no dataset.\n",
        "\n",
        "Vou definir um batch de 64. Realizei testes anteriores e não exibidos com um batch menor e a rede não teve um bom desempenho. Além disso, para batchs maiores o ambiente do Colab chega a acusar uso excessivo de memória RAM.\n",
        "\n",
        "O modelo será treinado com 100 épocas. Valores maiores poderiam gerar melhores resultados porém, por questões de limitações de tempo e poder computacional tive de me limitar a este número de épocas.\n",
        "\n"
      ],
      "metadata": {
        "id": "SG5HZxES7htf"
      }
    },
    {
      "cell_type": "markdown",
      "source": [
        "### Função para a definição da rede"
      ],
      "metadata": {
        "id": "l6f7JmQw8cWx"
      }
    },
    {
      "cell_type": "code",
      "source": [
        "def configure_net(optimizer='adam', neurons_dense=5, show_summary=True):\n",
        "    \"\"\"\n",
        "    Configurações iniciais da rede\n",
        "\n",
        "    Args:\n",
        "    optimizer [string]  : Otimizador a ser utilizados\n",
        "    neuros_dense [int]  : Número de neurônios da camada densa\n",
        "    show_summary [bool] : Se True exibe o sumário da rede\n",
        "\n",
        "    Returns:\n",
        "    model : Modelo da rede\n",
        "    \"\"\"\n",
        "    print(\"Carregando o modelo da VGG19\")\n",
        "    model = vgg19.VGG19(input_shape=(224, 224, 3), weights='imagenet', include_top=True)\n",
        "    model = Model(inputs=model.input, outputs=model.get_layer(index=-2).output) #-2 mantendo o include_top=True\n",
        "\n",
        "    print(\"\\tAdicionando novas camadas ao modelo ...\")\n",
        "    newTop = Sequential()\n",
        "    newTop.add(Flatten(input_shape=model.output_shape[1:]))\n",
        "    newTop.add(Dense(neurons_dense, activation='softmax')) # 5 é o número de classes\n",
        "\n",
        "    print(\"\\tConfigrando o fine-tuning...\")\n",
        "    model = Model(inputs=model.input, outputs=newTop(model.output))\n",
        "\n",
        "    if show_summary:\n",
        "        model.summary()\n",
        "    \n",
        "    # pesquisar learning_rate\n",
        "    model.compile(loss='categorical_crossentropy', optimizer=optimizer, metrics=['accuracy'])\n",
        "\n",
        "    return model\n"
      ],
      "metadata": {
        "id": "gf2A58FPn154"
      },
      "execution_count": null,
      "outputs": []
    },
    {
      "cell_type": "markdown",
      "source": [
        "### Função para o treinamento da rede"
      ],
      "metadata": {
        "id": "EXcMzWzNoj1E"
      }
    },
    {
      "cell_type": "code",
      "source": [
        "def train_model(model, X_train, y_train, batch_size=64, epochs=50):\n",
        "    \"\"\"\n",
        "    Reliza o treino da rede\n",
        "\n",
        "    Args: \n",
        "    model : A rede a ser treinado\n",
        "    X_train [array] : Conjunto de imagens para treino\n",
        "    y_train [array] : Lista com a categoria de cada imagem de treino\n",
        "    batch_size [int] : Tamanho do batch de treino\n",
        "    epochs [int] : Número de épocas\n",
        "\n",
        "    Returns:\n",
        "    model : Modelo treinado\n",
        "    acc_loss [list] : Lista com a acurácia de cada época\n",
        "    err_loss [list] : Lista com o erro de cada época\n",
        "    \"\"\"\n",
        "    print(\"treinando o modelo ...\")\n",
        "    batches = list(range(0, len(y_train), batch_size))\n",
        "    perm = np.random.permutation(len(y_train))\n",
        "    err_loss = []\n",
        "    acc_loss = []\n",
        "    err_loss.append(1)\n",
        "    acc_loss.append(0)\n",
        "\n",
        "    for e in range(0, epochs):\n",
        "        for b in batches:\n",
        "            if b + batch_size < len(y_train):\n",
        "                x = X_train[perm[b : b + batch_size]]\n",
        "                y = y_train[perm[b : b + batch_size]]\n",
        "            else:\n",
        "                x = X_train[perm[b : ]]\n",
        "                y = y_train[perm[b : ]]\n",
        "            \n",
        "            loss = model.train_on_batch(x, y)\n",
        "\n",
        "        #print(\"\\tEpoch %i. [Error, Accuracy]: %.15f, %.15f \" % (e+1, loss[0], loss[1]))\n",
        "        err_loss.append(loss[0])\n",
        "        acc_loss.append(loss[1])\n",
        "    \n",
        "    print(\"\\tEpoch %i. [Error, Accuracy]: %.15f, %.15f \" % (e+1, loss[0], loss[1]))\n",
        "    return model, acc_loss, err_loss"
      ],
      "metadata": {
        "id": "g707DMPUobBr"
      },
      "execution_count": null,
      "outputs": []
    },
    {
      "cell_type": "markdown",
      "source": [
        "## Função para plotar o gráfico de perda e acurácia"
      ],
      "metadata": {
        "id": "5Ft3ySDO9hkL"
      }
    },
    {
      "cell_type": "code",
      "source": [
        "def plot_accvloss(acc_loss, err_loss):\n",
        "    \"\"\"\n",
        "    Plot o gráfico de perda vesus acurácia\n",
        "\n",
        "    Args:\n",
        "    acc_loss [list] : Lista de valores de acurácia\n",
        "    err_loss [list] : Lista de valores de erro\n",
        "    \"\"\"\n",
        "    plt.plot(err_loss, label=\"Err\")\n",
        "    plt.plot(acc_loss, label=\"Acc\")\n",
        "    plt.xlim([0, len(err_loss)-1])\n",
        "    plt.ylim([0, max(err_loss)])\n",
        "    plt.legend(loc='upper right')\n",
        "    plt.ylabel('Loss/Accuracy')\n",
        "    plt.xlabel('Epochs')\n",
        "    plt.margins(0.5, 0.5)\n",
        "    plt.show()"
      ],
      "metadata": {
        "id": "qCgj6kdxo6TR"
      },
      "execution_count": null,
      "outputs": []
    },
    {
      "cell_type": "markdown",
      "source": [
        "## Treinando e testando a rede"
      ],
      "metadata": {
        "id": "0JFqHz3M9mQ_"
      }
    },
    {
      "cell_type": "code",
      "source": [
        "model = configure_net(optimizer='adadelta')\n",
        "\n",
        "model, acc_loss, err_loss = train_model(model, X_train, y_train, epochs=100)\n",
        "\n",
        "plot_accvloss(acc_loss, err_loss)\n",
        "\n",
        "print(\"Testing the model ...\")\n",
        "acc = model.evaluate(X_test, y_test, batch_size=64)\n",
        "print(model.metrics_names)\n",
        "print(\"\\tTop-1 Accuracy: %.2f\" % acc[1])"
      ],
      "metadata": {
        "colab": {
          "base_uri": "https://localhost:8080/",
          "height": 1000
        },
        "id": "mnDc-Wstww_k",
        "outputId": "a24aaa15-a7b3-4b99-ed77-bc4cd038a3ee"
      },
      "execution_count": null,
      "outputs": [
        {
          "output_type": "stream",
          "name": "stdout",
          "text": [
            "Carregando o modelo da VGG19\n",
            "Downloading data from https://storage.googleapis.com/tensorflow/keras-applications/vgg19/vgg19_weights_tf_dim_ordering_tf_kernels.h5\n",
            "574717952/574710816 [==============================] - 3s 0us/step\n",
            "574726144/574710816 [==============================] - 3s 0us/step\n",
            "\tAdicionando novas camadas ao modelo ...\n",
            "\tConfigrando o fine-tuning...\n",
            "Model: \"model_1\"\n",
            "_________________________________________________________________\n",
            " Layer (type)                Output Shape              Param #   \n",
            "=================================================================\n",
            " input_1 (InputLayer)        [(None, 224, 224, 3)]     0         \n",
            "                                                                 \n",
            " block1_conv1 (Conv2D)       (None, 224, 224, 64)      1792      \n",
            "                                                                 \n",
            " block1_conv2 (Conv2D)       (None, 224, 224, 64)      36928     \n",
            "                                                                 \n",
            " block1_pool (MaxPooling2D)  (None, 112, 112, 64)      0         \n",
            "                                                                 \n",
            " block2_conv1 (Conv2D)       (None, 112, 112, 128)     73856     \n",
            "                                                                 \n",
            " block2_conv2 (Conv2D)       (None, 112, 112, 128)     147584    \n",
            "                                                                 \n",
            " block2_pool (MaxPooling2D)  (None, 56, 56, 128)       0         \n",
            "                                                                 \n",
            " block3_conv1 (Conv2D)       (None, 56, 56, 256)       295168    \n",
            "                                                                 \n",
            " block3_conv2 (Conv2D)       (None, 56, 56, 256)       590080    \n",
            "                                                                 \n",
            " block3_conv3 (Conv2D)       (None, 56, 56, 256)       590080    \n",
            "                                                                 \n",
            " block3_conv4 (Conv2D)       (None, 56, 56, 256)       590080    \n",
            "                                                                 \n",
            " block3_pool (MaxPooling2D)  (None, 28, 28, 256)       0         \n",
            "                                                                 \n",
            " block4_conv1 (Conv2D)       (None, 28, 28, 512)       1180160   \n",
            "                                                                 \n",
            " block4_conv2 (Conv2D)       (None, 28, 28, 512)       2359808   \n",
            "                                                                 \n",
            " block4_conv3 (Conv2D)       (None, 28, 28, 512)       2359808   \n",
            "                                                                 \n",
            " block4_conv4 (Conv2D)       (None, 28, 28, 512)       2359808   \n",
            "                                                                 \n",
            " block4_pool (MaxPooling2D)  (None, 14, 14, 512)       0         \n",
            "                                                                 \n",
            " block5_conv1 (Conv2D)       (None, 14, 14, 512)       2359808   \n",
            "                                                                 \n",
            " block5_conv2 (Conv2D)       (None, 14, 14, 512)       2359808   \n",
            "                                                                 \n",
            " block5_conv3 (Conv2D)       (None, 14, 14, 512)       2359808   \n",
            "                                                                 \n",
            " block5_conv4 (Conv2D)       (None, 14, 14, 512)       2359808   \n",
            "                                                                 \n",
            " block5_pool (MaxPooling2D)  (None, 7, 7, 512)         0         \n",
            "                                                                 \n",
            " flatten (Flatten)           (None, 25088)             0         \n",
            "                                                                 \n",
            " fc1 (Dense)                 (None, 4096)              102764544 \n",
            "                                                                 \n",
            " fc2 (Dense)                 (None, 4096)              16781312  \n",
            "                                                                 \n",
            " sequential (Sequential)     (None, 5)                 20485     \n",
            "                                                                 \n",
            "=================================================================\n",
            "Total params: 139,590,725\n",
            "Trainable params: 139,590,725\n",
            "Non-trainable params: 0\n",
            "_________________________________________________________________\n",
            "treinando o modelo ...\n",
            "\tEpoch 100. [Error, Accuracy]: 0.000252699770499, 1.000000000000000 \n"
          ]
        },
        {
          "output_type": "display_data",
          "data": {
            "text/plain": [
              "<Figure size 432x288 with 1 Axes>"
            ],
            "image/png": "[encoded data removed]"
          },
          "metadata": {
            "needs_background": "light"
          }
        },
        {
          "output_type": "stream",
          "name": "stdout",
          "text": [
            "Testing the model ...\n",
            "3/3 [==============================] - 3s 1s/step - loss: 0.4744 - accuracy: 0.8800\n",
            "['loss', 'accuracy']\n",
            "\tTop-1 Accuracy: 0.88\n"
          ]
        }
      ]
    },
    {
      "cell_type": "markdown",
      "source": [
        "## b) Compare a predição diretamente pela rede com a extração de características.\n"
      ],
      "metadata": {
        "id": "r9L_w5Vi9MEC"
      }
    },
    {
      "cell_type": "markdown",
      "source": [
        "No projeto feito anteriormente a acurácia máxima obtida foi de 0,54. A acurácia obtida com o processo de fine-tuning passou para 0,8 utilizando a mesma rede do projeto anterior. Portanto, o uso da técnica de fine-tuning mostrou-se mais eficiente para realizar a classificação deste conjunto de imagem. Assim, em uma aplicação prática, seria recomendado fazer uso deste novo modelo para realiza a classificação das imagens de folhas de uvas."
      ],
      "metadata": {
        "id": "4GECpCZbPeXM"
      }
    },
    {
      "cell_type": "markdown",
      "source": [
        "## Questão 2\n",
        "Considerando a mesma rede pré-treinada do exercício anterior, faça fine-tuning congelando algumas camadas. Determine a quantidade de camadas a serem congeladas, indique o setup escolhido e compare o resultado obtido em relação ao fine-tuning convencional."
      ],
      "metadata": {
        "id": "t0M09a6W9V_9"
      }
    },
    {
      "cell_type": "markdown",
      "source": [
        "A aplicação do congelamento das camadas gerou uma diminuição do desempenho do modelo. Após alguns teste cheguei ao resultado de que congelando apenas 5 camadas os prejuízos ao desempenho do modelo seriam menores."
      ],
      "metadata": {
        "id": "QkJ_H7kPJX5Z"
      }
    },
    {
      "cell_type": "code",
      "source": [
        "model = configure_net(optimizer='adam', show_summary=False)\n",
        "\n",
        "for layer in model.layers[:-int(5)]:\n",
        "    layer.trainable = False\n",
        "\n",
        "model, acc_loss, err_loss = train_model(model, X_train, y_train, epochs=100)\n",
        "\n",
        "plot_accvloss(acc_loss, err_loss)\n",
        "\n",
        "print(\"Testing the model ...\")\n",
        "acc = model.evaluate(X_test, y_test, batch_size=64)\n",
        "print(model.metrics_names)\n",
        "print(\"\\tTop-1 Accuracy: %.2f\" % acc[1])"
      ],
      "metadata": {
        "colab": {
          "base_uri": "https://localhost:8080/",
          "height": 435
        },
        "id": "ki0st_BFxeRr",
        "outputId": "3c0e0a62-9d57-4d14-c1f7-006c942ed7d8"
      },
      "execution_count": null,
      "outputs": [
        {
          "output_type": "stream",
          "name": "stdout",
          "text": [
            "Carregando o modelo da VGG19\n",
            "\tAdicionando novas camadas ao modelo ...\n",
            "\tConfigrando o fine-tuning...\n",
            "treinando o modelo ...\n",
            "\tEpoch 100. [Error, Accuracy]: 0.000099263823358, 1.000000000000000 \n"
          ]
        },
        {
          "output_type": "display_data",
          "data": {
            "text/plain": [
              "<Figure size 432x288 with 1 Axes>"
            ],
            "image/png": "[encoded data removed]"
          },
          "metadata": {
            "needs_background": "light"
          }
        },
        {
          "output_type": "stream",
          "name": "stdout",
          "text": [
            "Testing the model ...\n",
            "3/3 [==============================] - 1s 247ms/step - loss: 5.8484 - accuracy: 0.4133\n",
            "['loss', 'accuracy']\n",
            "\tTop-1 Accuracy: 0.41\n"
          ]
        }
      ]
    },
    {
      "cell_type": "markdown",
      "source": [
        "A aplicação do congelamento não foi boa por dois motivos. Primeiro ela não permitiu utilizar o otimizador adadelta, que apresenta resultados melhores que o Adam, para este caso. O segundo é que como a rede não foi originalmente treinada para este tipo de imagem ela perde a capacidade de se adaptar para o novo conjunto de dados."
      ],
      "metadata": {
        "id": "mb7-tiTCh__y"
      }
    },
    {
      "cell_type": "markdown",
      "source": [
        "## Questão 03\n",
        "Considerando a mesma rede pré-treinada do primeiro exercício, faça fine-tuning com Data Augmentation. Explore essas técnicas e verifique se sua utilização melhora a performance do modelo. Não fique restrito às técnicas de exemplo. Estude as demais funções existentes no pacote ImageGenerator."
      ],
      "metadata": {
        "id": "GJrN32jvKN1s"
      }
    },
    {
      "cell_type": "code",
      "source": [
        "from keras.preprocessing.image import ImageDataGenerator\n",
        "\n",
        "def transform_image(image, method):\n",
        "    \"\"\"\n",
        "    Função que realiza uma transformação aletaória na imagem\n",
        "\n",
        "    Args:\n",
        "    image [array]   : Imagem a ser alterada\n",
        "    method [string] : Método de transformação a ser aplicado\n",
        "\n",
        "    Returns:\n",
        "    batch [array]   : Imagem transformada\n",
        "    \"\"\"\n",
        "\n",
        "    random_n = float(np.random.randint(30, 271)) # Valor elatório da itensidade da modificação\n",
        "\n",
        "    if method == 'rotation_range':\n",
        "        # rotaciona a imagem de acordo com a quantidade de graus informados\n",
        "        datagen = ImageDataGenerator(rotation_range=random_n) \n",
        "    elif method == 'width_shift_range':\n",
        "        # Altera a preenchida largura da imagem\n",
        "        datagen = ImageDataGenerator(width_shift_range=round(random_n / 271, 1))\n",
        "    elif method == 'height_shift_range':\n",
        "        # Altera a altura preenchida da imagem\n",
        "        datagen = ImageDataGenerator(height_shift_range=round(random_n / 271, 1))\n",
        "    elif method == 'shear_range':\n",
        "        # Cisalhamento da imagem (ângulo de cisalhamento no sentido anti-horário em graus)\n",
        "        datagen = ImageDataGenerator(shear_range=random_n)\n",
        "    elif method == 'zoom_range':\n",
        "        # Aplica zoom na imagem\n",
        "        datagen = ImageDataGenerator(zoom_range=round(random_n / 271, 1))\n",
        "    elif method == 'horizontal_flip':\n",
        "        # Inverte a imagem horizontalmente\n",
        "        datagen = ImageDataGenerator(horizontal_flip = True)\n",
        "    else:\n",
        "        # Inverte a imagem verticalmente\n",
        "        datagen = ImageDataGenerator(vertical_flip = True)\n",
        "    \n",
        "    # Aplica a transformação na imagem\n",
        "    it = datagen.flow(np.expand_dims(image, 0), batch_size=1) \n",
        "    batch = it.next()\n",
        "\n",
        "    return batch[0].astype(np.uint8)"
      ],
      "metadata": {
        "id": "Wj6FHz9yNL-I"
      },
      "execution_count": null,
      "outputs": []
    },
    {
      "cell_type": "code",
      "source": [
        "def image_augmentation(X, y, n_samples):\n",
        "    \"\"\"\n",
        "    Realiza o processo de augmentation\n",
        "\n",
        "    Args:\n",
        "    X [array] : Conjunto de imagens base\n",
        "    y [array] : Lista com a categorias das imagens originais\n",
        "    n_samples [Int] : Número de transformações a ser realizado em cada imagems. O conjunto final será n_samples vezes maior que o conjunto X.\n",
        "\n",
        "    Returns:\n",
        "    imagens [array] : Conjunto de imagens transformadas\n",
        "    labels [arry] : Lista com a categoria de cada nova imagem\n",
        "    \"\"\"\n",
        "    print(\"\\tCriando augmentation usando o Keras ...\")\n",
        "    augmentation_methods = ['rotation_range', 'width_shift_range', 'height_shift_range', 'shear_range',\n",
        "                            'zoom_range', 'horizontal_flip', 'vertical_flip']\n",
        "\n",
        "    method = np.random.choice(augmentation_methods)\n",
        "    images = []\n",
        "    labels = []\n",
        "\n",
        "    for _ in range(n_samples):\n",
        "        for i in range(0, X.shape[0]):\n",
        "            batch = transform_image(X[i], method)\n",
        "            images.append(batch)\n",
        "            labels.append(y[i])\n",
        "        \n",
        "    images = np.array(images)\n",
        "    labels = np.array(labels)\n",
        "\n",
        "    return images, labels\n",
        "\n",
        "# chamada da função; após, concatenamos os dados gerados aos dados originais\n",
        "images, labels = image_augmentation(X_train, y_train, 3)\n",
        "X_train_v2 = np.concatenate((X_train, images), axis=0)\n",
        "y_train_v2 = np.concatenate((y_train, labels), axis=0)\n",
        "\n",
        "print('\\tTraining set shape: ', X_train_v2.shape)\n",
        "print('\\tTesting set shape: ', X_test.shape)\n",
        "print('\\tTraining label shape: ', y_train_v2.shape)\n",
        "print('\\tTesting label shape: ', y_test.shape)"
      ],
      "metadata": {
        "id": "sJwahdXnLbUF",
        "colab": {
          "base_uri": "https://localhost:8080/"
        },
        "outputId": "dfdfd0be-6871-4470-cdd4-d7e5a97e2c16"
      },
      "execution_count": null,
      "outputs": [
        {
          "output_type": "stream",
          "name": "stdout",
          "text": [
            "\tCriando augmentation usando o Keras ...\n",
            "\tTraining set shape:  (1400, 224, 224, 3)\n",
            "\tTesting set shape:  (150, 224, 224, 3)\n",
            "\tTraining label shape:  (1400, 5)\n",
            "\tTesting label shape:  (150, 5)\n"
          ]
        }
      ]
    },
    {
      "cell_type": "markdown",
      "source": [
        "Treinando e testando a rede com Augmentation"
      ],
      "metadata": {
        "id": "GxOrkpwjMeos"
      }
    },
    {
      "cell_type": "code",
      "source": [
        "model = configure_net(optimizer='adadelta')\n",
        "\n",
        "model, acc_loss, err_loss = train_model(model, X_train_v2, y_train_v2, epochs=100)\n",
        "\n",
        "plot_accvloss(acc_loss, err_loss)\n",
        "\n",
        "print(\"Testando o modelo ...\")\n",
        "acc = model.evaluate(X_test, y_test, batch_size=64)\n",
        "print(model.metrics_names)\n",
        "print(\"\\tTop-1 Accuracy: %.2f\" % acc[1])"
      ],
      "metadata": {
        "colab": {
          "base_uri": "https://localhost:8080/",
          "height": 1000
        },
        "id": "bg_VzQJnLaXs",
        "outputId": "63ae5824-6a90-4c05-948b-75ca5e10ab13"
      },
      "execution_count": null,
      "outputs": [
        {
          "output_type": "stream",
          "name": "stdout",
          "text": [
            "Carregando o modelo da VGG19\n",
            "\tAdicionando novas camadas ao modelo ...\n",
            "\tConfigrando o fine-tuning...\n",
            "Model: \"model_7\"\n",
            "_________________________________________________________________\n",
            " Layer (type)                Output Shape              Param #   \n",
            "=================================================================\n",
            " input_4 (InputLayer)        [(None, 224, 224, 3)]     0         \n",
            "                                                                 \n",
            " block1_conv1 (Conv2D)       (None, 224, 224, 64)      1792      \n",
            "                                                                 \n",
            " block1_conv2 (Conv2D)       (None, 224, 224, 64)      36928     \n",
            "                                                                 \n",
            " block1_pool (MaxPooling2D)  (None, 112, 112, 64)      0         \n",
            "                                                                 \n",
            " block2_conv1 (Conv2D)       (None, 112, 112, 128)     73856     \n",
            "                                                                 \n",
            " block2_conv2 (Conv2D)       (None, 112, 112, 128)     147584    \n",
            "                                                                 \n",
            " block2_pool (MaxPooling2D)  (None, 56, 56, 128)       0         \n",
            "                                                                 \n",
            " block3_conv1 (Conv2D)       (None, 56, 56, 256)       295168    \n",
            "                                                                 \n",
            " block3_conv2 (Conv2D)       (None, 56, 56, 256)       590080    \n",
            "                                                                 \n",
            " block3_conv3 (Conv2D)       (None, 56, 56, 256)       590080    \n",
            "                                                                 \n",
            " block3_conv4 (Conv2D)       (None, 56, 56, 256)       590080    \n",
            "                                                                 \n",
            " block3_pool (MaxPooling2D)  (None, 28, 28, 256)       0         \n",
            "                                                                 \n",
            " block4_conv1 (Conv2D)       (None, 28, 28, 512)       1180160   \n",
            "                                                                 \n",
            " block4_conv2 (Conv2D)       (None, 28, 28, 512)       2359808   \n",
            "                                                                 \n",
            " block4_conv3 (Conv2D)       (None, 28, 28, 512)       2359808   \n",
            "                                                                 \n",
            " block4_conv4 (Conv2D)       (None, 28, 28, 512)       2359808   \n",
            "                                                                 \n",
            " block4_pool (MaxPooling2D)  (None, 14, 14, 512)       0         \n",
            "                                                                 \n",
            " block5_conv1 (Conv2D)       (None, 14, 14, 512)       2359808   \n",
            "                                                                 \n",
            " block5_conv2 (Conv2D)       (None, 14, 14, 512)       2359808   \n",
            "                                                                 \n",
            " block5_conv3 (Conv2D)       (None, 14, 14, 512)       2359808   \n",
            "                                                                 \n",
            " block5_conv4 (Conv2D)       (None, 14, 14, 512)       2359808   \n",
            "                                                                 \n",
            " block5_pool (MaxPooling2D)  (None, 7, 7, 512)         0         \n",
            "                                                                 \n",
            " flatten (Flatten)           (None, 25088)             0         \n",
            "                                                                 \n",
            " fc1 (Dense)                 (None, 4096)              102764544 \n",
            "                                                                 \n",
            " fc2 (Dense)                 (None, 4096)              16781312  \n",
            "                                                                 \n",
            " sequential_3 (Sequential)   (None, 5)                 20485     \n",
            "                                                                 \n",
            "=================================================================\n",
            "Total params: 139,590,725\n",
            "Trainable params: 139,590,725\n",
            "Non-trainable params: 0\n",
            "_________________________________________________________________\n",
            "treinando o modelo ...\n",
            "\tEpoch 100. [Error, Accuracy]: 0.000156864218297, 1.000000000000000 \n"
          ]
        },
        {
          "output_type": "display_data",
          "data": {
            "text/plain": [
              "<Figure size 432x288 with 1 Axes>"
            ],
            "image/png": "[encoded data removed]"
          },
          "metadata": {
            "needs_background": "light"
          }
        },
        {
          "output_type": "stream",
          "name": "stdout",
          "text": [
            "Testando o modelo ...\n",
            "3/3 [==============================] - 1s 267ms/step - loss: 1.0728 - accuracy: 0.8600\n",
            "['loss', 'accuracy']\n",
            "\tTop-1 Accuracy: 0.86\n"
          ]
        }
      ]
    },
    {
      "cell_type": "markdown",
      "source": [
        "## Questão 04\n",
        "Interpretação dos resultados:"
      ],
      "metadata": {
        "id": "8lT_uHqzOM6U"
      }
    },
    {
      "cell_type": "markdown",
      "source": [
        "### a) Baseando-se nos experimetnos anteriores, indique a melhor solução para este conjunto de dados."
      ],
      "metadata": {
        "id": "zOdznssYOQzj"
      }
    },
    {
      "cell_type": "markdown",
      "source": [
        "A melhor escolha, para este caso, é o uso do fine-tuning simples. As outras técnicas mostraram desempenho inferior ao obtido para o processo de augmentation. O uso do método de extração de caracetéristicas obteve uma acurácia máxima de 0,54 apenas enquanto que o fine-tuning simples obteve uma acurácia de 0,88. O congelamento das camadas resultou em um desempnho inferior ao fine-tuning tradicional além de não permitir o uso do otimizador Adadelta que proporcionou um resultado melhor do que o otimizador Adam. O método de Augmentation aparentemente não resultou em uma melhora no resultado do modelo ficando com acurácia média final de 0.86. Talvez se o pode-se ter sido testado o Augmentation com mais modificações nos dados houvesse uma melhora no resulto. Porém, por limitações do ambiente do desenvolvimento não foi possível realizar novos testes. Na rodada final o procedimento de augmentation levou cerca de 30 minutos para fazer o procedimento de treino e teste da rede enquanto os demais levaram menos de 10 minutos."
      ],
      "metadata": {
        "id": "cNpW08rjOU_9"
      }
    },
    {
      "cell_type": "markdown",
      "source": [
        "### b) Apresente gráficos e dados comparativos que justifiquem suas escolhas."
      ],
      "metadata": {
        "id": "nvW4VAeFOTBT"
      }
    },
    {
      "cell_type": "code",
      "source": [
        "import pandas as pd\n",
        "\n",
        "\n",
        "results = pd.DataFrame([[0.54], [0.88], [0.41], [0.86]], \n",
        "                       index=['Extração de características',\n",
        "                              'Fine-tuning',\n",
        "                              'Congelamento de camadas',\n",
        "                              'Augmentation'],\n",
        "                       columns=['Acurácia'])"
      ],
      "metadata": {
        "id": "DLmXwoJZlxkC"
      },
      "execution_count": null,
      "outputs": []
    },
    {
      "cell_type": "code",
      "source": [
        "results"
      ],
      "metadata": {
        "colab": {
          "base_uri": "https://localhost:8080/",
          "height": 175
        },
        "id": "lmRD3zUN6m7E",
        "outputId": "972ce827-8e07-44f7-9359-88202c6718b5"
      },
      "execution_count": null,
      "outputs": [
        {
          "output_type": "execute_result",
          "data": {
            "text/plain": [
              "                             Acurácia\n",
              "Extração de características      0.54\n",
              "Fine-tuning                      0.88\n",
              "Congelamento de camadas          0.41\n",
              "Augmentation                     0.86"
            ],
            "text/html": [
              "\n",
              "  <div id=\"df-7f341809-3690-417b-8b53-088f1c46ea4f\">\n",
              "    <div class=\"colab-df-container\">\n",
              "      <div>\n",
              "<style scoped>\n",
              "    .dataframe tbody tr th:only-of-type {\n",
              "        vertical-align: middle;\n",
              "    }\n",
              "\n",
              "    .dataframe tbody tr th {\n",
              "        vertical-align: top;\n",
              "    }\n",
              "\n",
              "    .dataframe thead th {\n",
              "        text-align: right;\n",
              "    }\n",
              "</style>\n",
              "<table border=\"1\" class=\"dataframe\">\n",
              "  <thead>\n",
              "    <tr style=\"text-align: right;\">\n",
              "      <th></th>\n",
              "      <th>Acurácia</th>\n",
              "    </tr>\n",
              "  </thead>\n",
              "  <tbody>\n",
              "    <tr>\n",
              "      <th>Extração de características</th>\n",
              "      <td>0.54</td>\n",
              "    </tr>\n",
              "    <tr>\n",
              "      <th>Fine-tuning</th>\n",
              "      <td>0.88</td>\n",
              "    </tr>\n",
              "    <tr>\n",
              "      <th>Congelamento de camadas</th>\n",
              "      <td>0.41</td>\n",
              "    </tr>\n",
              "    <tr>\n",
              "      <th>Augmentation</th>\n",
              "      <td>0.86</td>\n",
              "    </tr>\n",
              "  </tbody>\n",
              "</table>\n",
              "</div>\n",
              "      <button class=\"colab-df-convert\" onclick=\"convertToInteractive('df-7f341809-3690-417b-8b53-088f1c46ea4f')\"\n",
              "              title=\"Convert this dataframe to an interactive table.\"\n",
              "              style=\"display:none;\">\n",
              "        \n",
              "  <svg xmlns=\"http://www.w3.org/2000/svg\" height=\"24px\"viewBox=\"0 0 24 24\"\n",
              "       width=\"24px\">\n",
              "    <path d=\"M0 0h24v24H0V0z\" fill=\"none\"/>\n",
              "    <path d=\"M18.56 5.44l.94 2.06.94-2.06 2.06-.94-2.06-.94-.94-2.06-.94 2.06-2.06.94zm-11 1L8.5 8.5l.94-2.06 2.06-.94-2.06-.94L8.5 2.5l-.94 2.06-2.06.94zm10 10l.94 2.06.94-2.06 2.06-.94-2.06-.94-.94-2.06-.94 2.06-2.06.94z\"/><path d=\"M17.41 7.96l-1.37-1.37c-.4-.4-.92-.59-1.43-.59-.52 0-1.04.2-1.43.59L10.3 9.45l-7.72 7.72c-.78.78-.78 2.05 0 2.83L4 21.41c.39.39.9.59 1.41.59.51 0 1.02-.2 1.41-.59l7.78-7.78 2.81-2.81c.8-.78.8-2.07 0-2.86zM5.41 20L4 18.59l7.72-7.72 1.47 1.35L5.41 20z\"/>\n",
              "  </svg>\n",
              "      </button>\n",
              "      \n",
              "  <style>\n",
              "    .colab-df-container {\n",
              "      display:flex;\n",
              "      flex-wrap:wrap;\n",
              "      gap: 12px;\n",
              "    }\n",
              "\n",
              "    .colab-df-convert {\n",
              "      background-color: #E8F0FE;\n",
              "      border: none;\n",
              "      border-radius: 50%;\n",
              "      cursor: pointer;\n",
              "      display: none;\n",
              "      fill: #1967D2;\n",
              "      height: 32px;\n",
              "      padding: 0 0 0 0;\n",
              "      width: 32px;\n",
              "    }\n",
              "\n",
              "    .colab-df-convert:hover {\n",
              "      background-color: #E2EBFA;\n",
              "      box-shadow: 0px 1px 2px rgba(60, 64, 67, 0.3), 0px 1px 3px 1px rgba(60, 64, 67, 0.15);\n",
              "      fill: #174EA6;\n",
              "    }\n",
              "\n",
              "    [theme=dark] .colab-df-convert {\n",
              "      background-color: #3B4455;\n",
              "      fill: #D2E3FC;\n",
              "    }\n",
              "\n",
              "    [theme=dark] .colab-df-convert:hover {\n",
              "      background-color: #434B5C;\n",
              "      box-shadow: 0px 1px 3px 1px rgba(0, 0, 0, 0.15);\n",
              "      filter: drop-shadow(0px 1px 2px rgba(0, 0, 0, 0.3));\n",
              "      fill: #FFFFFF;\n",
              "    }\n",
              "  </style>\n",
              "\n",
              "      <script>\n",
              "        const buttonEl =\n",
              "          document.querySelector('#df-7f341809-3690-417b-8b53-088f1c46ea4f button.colab-df-convert');\n",
              "        buttonEl.style.display =\n",
              "          google.colab.kernel.accessAllowed ? 'block' : 'none';\n",
              "\n",
              "        async function convertToInteractive(key) {\n",
              "          const element = document.querySelector('#df-7f341809-3690-417b-8b53-088f1c46ea4f');\n",
              "          const dataTable =\n",
              "            await google.colab.kernel.invokeFunction('convertToInteractive',\n",
              "                                                     [key], {});\n",
              "          if (!dataTable) return;\n",
              "\n",
              "          const docLinkHtml = 'Like what you see? Visit the ' +\n",
              "            '<a target=\"_blank\" href=https://colab.research.google.com/notebooks/data_table.ipynb>data table notebook</a>'\n",
              "            + ' to learn more about interactive tables.';\n",
              "          element.innerHTML = '';\n",
              "          dataTable['output_type'] = 'display_data';\n",
              "          await google.colab.output.renderOutput(dataTable, element);\n",
              "          const docLink = document.createElement('div');\n",
              "          docLink.innerHTML = docLinkHtml;\n",
              "          element.appendChild(docLink);\n",
              "        }\n",
              "      </script>\n",
              "    </div>\n",
              "  </div>\n",
              "  "
            ]
          },
          "metadata": {},
          "execution_count": 49
        }
      ]
    },
    {
      "cell_type": "code",
      "source": [
        "results.sort_values(by='Acurácia').plot(kind='barh')\n",
        "plt.title('Acurácia de teste dos métodos estudados')\n",
        "plt.xlim(0, 1)"
      ],
      "metadata": {
        "colab": {
          "base_uri": "https://localhost:8080/",
          "height": 298
        },
        "id": "YAWWIFPP7T8A",
        "outputId": "7278e29b-af03-43eb-b277-a1544cdf6175"
      },
      "execution_count": null,
      "outputs": [
        {
          "output_type": "execute_result",
          "data": {
            "text/plain": [
              "(0.0, 1.0)"
            ]
          },
          "metadata": {},
          "execution_count": 51
        },
        {
          "output_type": "display_data",
          "data": {
            "text/plain": [
              "<Figure size 432x288 with 1 Axes>"
            ],
            "image/png": "[encoded data removed]"
          },
          "metadata": {
            "needs_background": "light"
          }
        }
      ]
    },
    {
      "cell_type": "code",
      "source": [
        ""
      ],
      "metadata": {
        "id": "6S2WrthY7pjI"
      },
      "execution_count": null,
      "outputs": []
    }
  ]
}